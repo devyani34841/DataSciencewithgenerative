{
  "nbformat": 4,
  "nbformat_minor": 0,
  "metadata": {
    "colab": {
      "provenance": []
    },
    "kernelspec": {
      "name": "python3",
      "display_name": "Python 3"
    },
    "language_info": {
      "name": "python"
    }
  },
  "cells": [
    {
      "cell_type": "markdown",
      "source": [
        "What is Python, and why is it popular?\n",
        "\n",
        "Python is a high-level, interpreted, general-purpose programming language. It is popular due to its simplicity and readability, vast libraries and frameworks (e.g., for web development, data science, machine learning), cross-platform compatibility, and large, supportive community."
      ],
      "metadata": {
        "id": "2mBnimIpmjMF"
      }
    },
    {
      "cell_type": "markdown",
      "source": [
        "What is an interpreter in Python?\n",
        "\n",
        "An interpreter is a program that directly executes instructions written in a programming language, line by line, without requiring them to be pre-compiled into a machine-language program. In Python, the interpreter reads your .py file and executes the code directly."
      ],
      "metadata": {
        "id": "HwMSijwmmpzW"
      }
    },
    {
      "cell_type": "markdown",
      "source": [
        "What are pre-defined keywords in Python?\n",
        "\n",
        "Pre-defined keywords (or reserved words) are special words in Python that have specific meanings and purposes. They cannot be used as variable names, function names, or any other identifiers. Examples include if, else, while, for, def, class, import, True, False, None."
      ],
      "metadata": {
        "id": "M_z3JHtGmx8y"
      }
    },
    {
      "cell_type": "markdown",
      "source": [
        "Can keywords be used as variable names?\n",
        "\n",
        "No, keywords cannot be used as variable names in Python. Doing so will result in a SyntaxError."
      ],
      "metadata": {
        "id": "LT2dPuOum2j3"
      }
    },
    {
      "cell_type": "markdown",
      "source": [
        "What is mutability in Python?\n",
        "\n",
        "Mutability refers to the ability of an object to be changed after it is created. If an object's state can be modified after it's been initialized, it's mutable. If its state cannot be changed, it's immutable."
      ],
      "metadata": {
        "id": "booj7CLHm_h1"
      }
    },
    {
      "cell_type": "markdown",
      "source": [
        "Why are lists mutable, but tuples are immutable?\n",
        "\n",
        "Lists are mutable because you can add, remove, or modify elements within a list after it has been created. For example, my_list[0] = new_value is allowed.\n",
        "\n",
        "Tuples are immutable because once a tuple is created, its elements cannot be changed, added, or removed. Attempting to modify a tuple will result in a TypeError. This immutability makes tuples suitable for representing fixed collections of items or as dictionary keys (since dictionary keys must be immutable)."
      ],
      "metadata": {
        "id": "NdeXle3AnGb9"
      }
    },
    {
      "cell_type": "markdown",
      "source": [
        "What is the difference between \"==\" and \"is\" operators in Python?\n",
        "\n",
        "== (Equality operator): This operator compares the values of two objects. It returns True if the objects have the same value, regardless of whether they are the same object in memory.\n",
        "\n",
        "is (Identity operator): This operator compares the identity of two objects. It returns True if two variables point to the exact same object in memory."
      ],
      "metadata": {
        "id": "rMjgAyeTm8j4"
      }
    },
    {
      "cell_type": "markdown",
      "source": [
        "What are logical operators in Python?\n",
        "\n",
        "Logical operators are used to combine conditional statements. Python has three logical operators:\n",
        "\n",
        "and: Returns True if both operands are True.\n",
        "\n",
        "or: Returns True if at least one operand is True.\n",
        "\n",
        "not: Returns the inverse of the boolean value of the operand."
      ],
      "metadata": {
        "id": "GpsKNgo2nWwn"
      }
    },
    {
      "cell_type": "markdown",
      "source": [
        "What is type casting in Python?\n",
        "\n",
        "Type casting (or type conversion) is the process of converting a value from one data type to another. This can be done using built-in functions like int(), float(), str(), list(), tuple(), etc."
      ],
      "metadata": {
        "id": "OUq4XwcLnajd"
      }
    },
    {
      "cell_type": "markdown",
      "source": [
        "What is the difference between implicit and explicit type casting?\n",
        "\n",
        "Implicit Type Casting (Coercion): This is done automatically by the Python interpreter during an operation if the types are compatible. Python converts one data type to another without the programmer's intervention to avoid data loss or ensure compatibility.\n",
        "Example: print(5 + 3.14) (int 5 is implicitly converted to float 5.0)\n",
        "\n",
        "Explicit Type Casting (Type Conversion): This is done intentionally by the programmer using built-in type conversion functions (e.g., int(), float(), str()). The programmer explicitly tells Python to convert a value from one type to another.\n",
        "Example: age_str = \"30\"; age_int = int(age_str)"
      ],
      "metadata": {
        "id": "cR1djSX4nrG8"
      }
    },
    {
      "cell_type": "markdown",
      "source": [
        "What is the purpose of conditional statements in Python?\n",
        "\n",
        "Conditional statements (like if, elif, else) are used to execute different blocks of code based on whether certain conditions are true or false. They allow your program to make decisions and follow different paths of execution."
      ],
      "metadata": {
        "id": "dnEvvxzAnv_8"
      }
    },
    {
      "cell_type": "markdown",
      "source": [
        "How does the elif statement work?\n",
        "\n",
        "The elif (short for \"else if\") statement is used in an if...elif...else ladder to check multiple conditions sequentially. If the if condition is false, Python moves to the first elif condition. If that's true, its block is executed. If false, it moves to the next elif, and so on. If no if or elif conditions are met, the else block (if present) is executed. Only one block in an if-elif-else chain will be executed."
      ],
      "metadata": {
        "id": "JMhyhP1Tn1kk"
      }
    },
    {
      "cell_type": "markdown",
      "source": [
        "What is the difference between for and while loops?\n",
        "\n",
        "for loop: Used for iterating over a sequence (like a list, tuple, string, or range) or other iterable objects. It's typically used when you know the number of iterations in advance or when you want to process each item in a collection.\n",
        "Example: for item in my_list: ... or for i in range(10): ...\n",
        "\n",
        "while loop: Used for repeatedly executing a block of code as long as a specified condition is true. It's typically used when the number of iterations is unknown and depends on a condition being met or becoming false.\n",
        "Example: while count < 10: ..."
      ],
      "metadata": {
        "id": "Vps6PUuGn-TA"
      }
    },
    {
      "cell_type": "markdown",
      "source": [
        "Describe a scenario where a while loop is more suitable than a for loop.\n",
        "\n",
        "A while loop is more suitable when the number of iterations is not known beforehand and the loop needs to continue until a specific condition is met.\n",
        "\n",
        "Scenario: Reading input from a user until a valid input is provided.\n",
        "\n",
        "Example: Prompting a user to enter a positive number. The loop should continue to ask for input as long as the entered number is negative or zero.\n"
      ],
      "metadata": {
        "id": "NsJnqF_moAyq"
      }
    },
    {
      "cell_type": "code",
      "source": [
        "#Practical Questions\n",
        "# 1.Write a Python program to print \"Hello, World!\"\n",
        "print(\"Hello, World!\")"
      ],
      "metadata": {
        "colab": {
          "base_uri": "https://localhost:8080/"
        },
        "id": "fqaMauJ7oRqn",
        "outputId": "7213da1a-01ca-4e95-f2b3-bf9273e0ed12"
      },
      "execution_count": 1,
      "outputs": [
        {
          "output_type": "stream",
          "name": "stdout",
          "text": [
            "Hello, World!\n"
          ]
        }
      ]
    },
    {
      "cell_type": "code",
      "execution_count": 2,
      "metadata": {
        "colab": {
          "base_uri": "https://localhost:8080/"
        },
        "id": "AS2JUnbxmhyw",
        "outputId": "fbcc3cf1-0107-4b9f-a812-7811009b910f"
      },
      "outputs": [
        {
          "output_type": "stream",
          "name": "stdout",
          "text": [
            "My name is Your Name and I am 30 years old.\n"
          ]
        }
      ],
      "source": [
        "# 2.Write a Python program that displays your name and age.\n",
        "name = \"Your Name\" # Replace with your name\n",
        "age = 30           # Replace with your age\n",
        "print(f\"My name is {name} and I am {age} years old.\")"
      ]
    },
    {
      "cell_type": "code",
      "source": [
        "# 3 Write code to print all the pre-defined keywords in Python using the keyword library.\n",
        "import keyword\n",
        "print(\"List of Python keywords:\")\n",
        "for kw in keyword.kwlist:\n",
        "    print(kw)"
      ],
      "metadata": {
        "colab": {
          "base_uri": "https://localhost:8080/"
        },
        "id": "sQMH0cKgoxLO",
        "outputId": "c544b92b-dedf-4b73-ac81-89f2b21dc3bd"
      },
      "execution_count": 3,
      "outputs": [
        {
          "output_type": "stream",
          "name": "stdout",
          "text": [
            "List of Python keywords:\n",
            "False\n",
            "None\n",
            "True\n",
            "and\n",
            "as\n",
            "assert\n",
            "async\n",
            "await\n",
            "break\n",
            "class\n",
            "continue\n",
            "def\n",
            "del\n",
            "elif\n",
            "else\n",
            "except\n",
            "finally\n",
            "for\n",
            "from\n",
            "global\n",
            "if\n",
            "import\n",
            "in\n",
            "is\n",
            "lambda\n",
            "nonlocal\n",
            "not\n",
            "or\n",
            "pass\n",
            "raise\n",
            "return\n",
            "try\n",
            "while\n",
            "with\n",
            "yield\n"
          ]
        }
      ]
    },
    {
      "cell_type": "code",
      "source": [
        "# 4 Write a program that checks if a given word is a Python keyword.\n",
        "import keyword\n",
        "\n",
        "word = input(\"Enter a word to check: \")\n",
        "if word in keyword.kwlist:\n",
        "    print(f\"'{word}' is a Python keyword.\")\n",
        "else:\n",
        "    print(f\"'{word}' is not a Python keyword.\")"
      ],
      "metadata": {
        "colab": {
          "base_uri": "https://localhost:8080/"
        },
        "id": "5nzBAZ8XpBSE",
        "outputId": "6161f3ac-7175-4c1f-fd76-7c829d6702fa"
      },
      "execution_count": 4,
      "outputs": [
        {
          "output_type": "stream",
          "name": "stdout",
          "text": [
            "Enter a word to check: not\n",
            "'not' is a Python keyword.\n"
          ]
        }
      ]
    },
    {
      "cell_type": "code",
      "source": [
        "# 5 Create a list and tuple in Python, and demonstrate how attempting to change an element works differently for each.\n",
        "# List (Mutable)\n",
        "my_list = [10, 20, 30, 40]\n",
        "print(\"Original List:\", my_list)\n",
        "\n",
        "# Attempt to change an element in the list\n",
        "my_list[1] = 25\n",
        "print(\"Modified List:\", my_list)\n",
        "print(\"Lists are mutable: Element at index 1 was changed from 20 to 25.\")\n",
        "\n",
        "print(\"-\" * 30)\n",
        "\n",
        "# Tuple (Immutable)\n",
        "my_tuple = (100, 200, 300, 400)\n",
        "print(\"Original Tuple:\", my_tuple)\n",
        "\n",
        "# Attempt to change an element in the tuple (will raise an error)\n",
        "try:\n",
        "    my_tuple[1] = 250\n",
        "    print(\"Modified Tuple (This line will not execute):\", my_tuple)\n",
        "except TypeError as e:\n",
        "    print(f\"Error attempting to modify tuple: {e}\")\n",
        "    print(\"Tuples are immutable: Cannot change elements after creation.\")"
      ],
      "metadata": {
        "colab": {
          "base_uri": "https://localhost:8080/"
        },
        "id": "KADh81DTpRwD",
        "outputId": "7fd3c253-4f34-4cd3-a216-8308181074e8"
      },
      "execution_count": 5,
      "outputs": [
        {
          "output_type": "stream",
          "name": "stdout",
          "text": [
            "Original List: [10, 20, 30, 40]\n",
            "Modified List: [10, 25, 30, 40]\n",
            "Lists are mutable: Element at index 1 was changed from 20 to 25.\n",
            "------------------------------\n",
            "Original Tuple: (100, 200, 300, 400)\n",
            "Error attempting to modify tuple: 'tuple' object does not support item assignment\n",
            "Tuples are immutable: Cannot change elements after creation.\n"
          ]
        }
      ]
    },
    {
      "cell_type": "code",
      "source": [
        "# 6 Write a function to demonstrate the behavior of mutable and immutable arguments.\n",
        "def modify_mutable(my_list_arg):\n",
        "    print(f\"Inside function (before modification): {my_list_arg}, ID: {id(my_list_arg)}\")\n",
        "    my_list_arg.append(4)  # Modifies the original list\n",
        "    print(f\"Inside function (after modification): {my_list_arg}, ID: {id(my_list_arg)}\")\n",
        "\n",
        "def modify_immutable(my_int_arg):\n",
        "    print(f\"Inside function (before modification): {my_int_arg}, ID: {id(my_int_arg)}\")\n",
        "    my_int_arg = my_int_arg + 1 # Creates a new int object\n",
        "    print(f\"Inside function (after modification): {my_int_arg}, ID: {id(my_int_arg)}\")\n",
        "\n",
        "# Demonstrating mutable argument (List)\n",
        "my_list = [1, 2, 3]\n",
        "print(f\"Outside function (initial list): {my_list}, ID: {id(my_list)}\")\n",
        "modify_mutable(my_list)\n",
        "print(f\"Outside function (after mutable modification): {my_list}, ID: {id(my_list)}\")\n",
        "print(\"Conclusion: Modifying a mutable argument inside a function affects the original object.\")\n",
        "\n",
        "print(\"\\n\" + \"=\" * 50 + \"\\n\")\n",
        "\n",
        "# Demonstrating immutable argument (Integer)\n",
        "my_int = 10\n",
        "print(f\"Outside function (initial int): {my_int}, ID: {id(my_int)}\")\n",
        "modify_immutable(my_int)\n",
        "print(f\"Outside function (after immutable modification): {my_int}, ID: {id(my_int)}\")\n",
        "print(\"Conclusion: Modifying an immutable argument inside a function creates a new object; the original is unchanged.\")"
      ],
      "metadata": {
        "colab": {
          "base_uri": "https://localhost:8080/"
        },
        "id": "mbjcfxJaphhO",
        "outputId": "302cdd80-ea5e-409d-e3e8-fce2743ffb82"
      },
      "execution_count": 6,
      "outputs": [
        {
          "output_type": "stream",
          "name": "stdout",
          "text": [
            "Outside function (initial list): [1, 2, 3], ID: 133019379838976\n",
            "Inside function (before modification): [1, 2, 3], ID: 133019379838976\n",
            "Inside function (after modification): [1, 2, 3, 4], ID: 133019379838976\n",
            "Outside function (after mutable modification): [1, 2, 3, 4], ID: 133019379838976\n",
            "Conclusion: Modifying a mutable argument inside a function affects the original object.\n",
            "\n",
            "==================================================\n",
            "\n",
            "Outside function (initial int): 10, ID: 10758024\n",
            "Inside function (before modification): 10, ID: 10758024\n",
            "Inside function (after modification): 11, ID: 10758056\n",
            "Outside function (after immutable modification): 10, ID: 10758024\n",
            "Conclusion: Modifying an immutable argument inside a function creates a new object; the original is unchanged.\n"
          ]
        }
      ]
    },
    {
      "cell_type": "code",
      "source": [
        "# 7 Write a program that performs basic arithmetic operations on two user-input numbers.\n",
        "try:\n",
        "    num1 = float(input(\"Enter the first number: \"))\n",
        "    num2 = float(input(\"Enter the second number: \"))\n",
        "\n",
        "    print(f\"{num1} + {num2} = {num1 + num2}\")\n",
        "    print(f\"{num1} - {num2} = {num1 - num2}\")\n",
        "    print(f\"{num1} * {num2} = {num1 * num2}\")\n",
        "\n",
        "    if num2 != 0:\n",
        "        print(f\"{num1} / {num2} = {num1 / num2}\")\n",
        "    else:\n",
        "        print(\"Division by zero is not allowed.\")\n",
        "except ValueError:\n",
        "    print(\"Invalid input. Please enter numbers only.\")\n",
        ""
      ],
      "metadata": {
        "colab": {
          "base_uri": "https://localhost:8080/"
        },
        "id": "uxS98i-Qp31n",
        "outputId": "383af147-73fc-40a6-bbcd-f1a3f3befe68"
      },
      "execution_count": 8,
      "outputs": [
        {
          "output_type": "stream",
          "name": "stdout",
          "text": [
            "Enter the first number: 2\n",
            "Enter the second number: 2\n",
            "2.0 + 2.0 = 4.0\n",
            "2.0 - 2.0 = 0.0\n",
            "2.0 * 2.0 = 4.0\n",
            "2.0 / 2.0 = 1.0\n"
          ]
        }
      ]
    },
    {
      "cell_type": "code",
      "source": [
        "# 8 Write a program to demonstrate the use of logical operators.\n",
        "age = 25\n",
        "has_driver_license = True\n",
        "is_student = False\n",
        "\n",
        "# Using 'and' operator\n",
        "if age >= 18 and has_driver_license:\n",
        "    print(\"You are an adult and can legally drive.\")\n",
        "\n",
        "# Using 'or' operator\n",
        "if age < 18 or is_student:\n",
        "    print(\"You are either a minor or a student.\")\n",
        "\n",
        "# Using 'not' operator\n",
        "if not is_student:\n",
        "    print(\"You are not a student.\")\n",
        "\n",
        "# More complex example\n",
        "grade = 85\n",
        "attendance = 90\n",
        "\n",
        "if (grade >= 70 and attendance >= 80) or age > 60:\n",
        "    print(\"Eligible for advanced course.\")\n",
        "else:\n",
        "    print(\"Not eligible for advanced course.\")"
      ],
      "metadata": {
        "colab": {
          "base_uri": "https://localhost:8080/"
        },
        "id": "wUqvWunXqBD4",
        "outputId": "ae40bb69-8307-46b4-bef7-e45b0af4b79c"
      },
      "execution_count": 7,
      "outputs": [
        {
          "output_type": "stream",
          "name": "stdout",
          "text": [
            "You are an adult and can legally drive.\n",
            "You are not a student.\n",
            "Eligible for advanced course.\n"
          ]
        }
      ]
    },
    {
      "cell_type": "code",
      "source": [
        "# 9 Write a Python program to convert user input string to integer, float, and boolean types.\n",
        "# Convert to Integer\n",
        "int_str = input(\"Enter an integer string: \")\n",
        "try:\n",
        "    my_int = int(int_str)\n",
        "    print(f\"'{int_str}' as integer: {my_int}, Type: {type(my_int)}\")\n",
        "except ValueError:\n",
        "    print(f\"Could not convert '{int_str}' to an integer.\")\n",
        "\n",
        "# Convert to Float\n",
        "float_str = input(\"Enter a float string: \")\n",
        "try:\n",
        "    my_float = float(float_str)\n",
        "    print(f\"'{float_str}' as float: {my_float}, Type: {type(my_float)}\")\n",
        "except ValueError:\n",
        "    print(f\"Could not convert '{float_str}' to a float.\")\n",
        "\n",
        "# Convert to Boolean\n",
        "# For boolean, common conversions are 'True', 'False', or non-empty/non-zero values\n",
        "bool_str = input(\"Enter a boolean string (e.g., 'True', 'False', '1', '0', any non-empty string): \")\n",
        "# Simple conversion for 'True'/'False' strings, otherwise non-empty string is True\n",
        "if bool_str.lower() == 'true' or bool_str == '1':\n",
        "    my_bool = True\n",
        "elif bool_str.lower() == 'false' or bool_str == '0':\n",
        "    my_bool = False\n",
        "else:\n",
        "    # For general non-empty strings, they evaluate to True in a boolean context\n",
        "    # (though explicit conversion isn't directly `bool(string_value)` for user input logic)\n",
        "    my_bool = bool(bool_str) # This handles \"\" as False, other non-empty as True\n",
        "                             # For specific \"true\"/\"false\" strings, the above 'if' is better.\n",
        "                             # If you want to check for specific string values:\n",
        "    print(f\"Note: For '{bool_str}', bool() conversion gives {my_bool}. \"\n",
        "          \"Explicit check for 'true'/'false' might be needed for specific user input handling.\")\n",
        "\n",
        "print(f\"'{bool_str}' as boolean: {my_bool}, Type: {type(my_bool)}\")"
      ],
      "metadata": {
        "colab": {
          "base_uri": "https://localhost:8080/"
        },
        "id": "E3DwD1UVqM-S",
        "outputId": "17474158-a54e-4ec9-bed3-4d1f303ffe96"
      },
      "execution_count": 9,
      "outputs": [
        {
          "output_type": "stream",
          "name": "stdout",
          "text": [
            "Enter an integer string: 2\n",
            "'2' as integer: 2, Type: <class 'int'>\n",
            "Enter a float string: 2\n",
            "'2' as float: 2.0, Type: <class 'float'>\n",
            "Enter a boolean string (e.g., 'True', 'False', '1', '0', any non-empty string): True\n",
            "'True' as boolean: True, Type: <class 'bool'>\n"
          ]
        }
      ]
    },
    {
      "cell_type": "code",
      "source": [
        "# 10 Write code to demonstrate type casting with list elements.\n",
        "str_list = [\"1\", \"2\", \"3\", \"4.5\", \"5\"]\n",
        "print(f\"Original list of strings: {str_list}\")\n",
        "\n",
        "# Type casting to integers (handling potential errors)\n",
        "int_list = []\n",
        "for item in str_list:\n",
        "    try:\n",
        "        int_list.append(int(float(item))) # Convert to float first to handle \"4.5\" gracefully\n",
        "    except ValueError:\n",
        "        int_list.append(None) # Or handle as per your requirement\n",
        "print(f\"List after casting to integers (where possible): {int_list}\")\n",
        "\n",
        "# Type casting to floats\n",
        "float_list = []\n",
        "for item in str_list:\n",
        "    try:\n",
        "        float_list.append(float(item))\n",
        "    except ValueError:\n",
        "        float_list.append(None)\n",
        "print(f\"List after casting to floats: {float_list}\")\n",
        "\n",
        "# Example of converting a list of mixed types to strings\n",
        "mixed_list = [1, 2.5, True, \"hello\"]\n",
        "print(f\"Original mixed list: {mixed_list}\")\n",
        "string_converted_list = [str(item) for item in mixed_list]\n",
        "print(f\"List after casting all elements to strings: {string_converted_list}\")"
      ],
      "metadata": {
        "colab": {
          "base_uri": "https://localhost:8080/"
        },
        "id": "_Rx49AQLqbZI",
        "outputId": "782640f5-a593-4a6b-fc04-f82b513b93b1"
      },
      "execution_count": 10,
      "outputs": [
        {
          "output_type": "stream",
          "name": "stdout",
          "text": [
            "Original list of strings: ['1', '2', '3', '4.5', '5']\n",
            "List after casting to integers (where possible): [1, 2, 3, 4, 5]\n",
            "List after casting to floats: [1.0, 2.0, 3.0, 4.5, 5.0]\n",
            "Original mixed list: [1, 2.5, True, 'hello']\n",
            "List after casting all elements to strings: ['1', '2.5', 'True', 'hello']\n"
          ]
        }
      ]
    },
    {
      "cell_type": "code",
      "source": [
        "# 11 Write a program that checks if a number is positive, negative, or zero.\n",
        "try:\n",
        "    number = float(input(\"Enter a number: \"))\n",
        "    if number > 0:\n",
        "        print(f\"{number} is a positive number.\")\n",
        "    elif number < 0:\n",
        "        print(f\"{number} is a negative number.\")\n",
        "    else:\n",
        "        print(f\"{number} is zero.\")\n",
        "except ValueError:\n",
        "    print(\"Invalid input. Please enter a valid number.\")"
      ],
      "metadata": {
        "colab": {
          "base_uri": "https://localhost:8080/"
        },
        "id": "g7ttmX--quFG",
        "outputId": "271bda54-2445-4f93-c0e2-5b15c922a973"
      },
      "execution_count": 11,
      "outputs": [
        {
          "output_type": "stream",
          "name": "stdout",
          "text": [
            "Enter a number: 2\n",
            "2.0 is a positive number.\n"
          ]
        }
      ]
    },
    {
      "cell_type": "code",
      "source": [
        "# 12 Write a for loop to print numbers from 1 to 10.\n",
        "print(\"Numbers from 1 to 10 using a for loop:\")\n",
        "for i in range(1, 11): # range(start, stop) - stop is exclusive\n",
        "    print(i)"
      ],
      "metadata": {
        "colab": {
          "base_uri": "https://localhost:8080/"
        },
        "id": "DWHGWP-eq4E1",
        "outputId": "d994ed87-17d0-448b-a302-66f94e901c8d"
      },
      "execution_count": 12,
      "outputs": [
        {
          "output_type": "stream",
          "name": "stdout",
          "text": [
            "Numbers from 1 to 10 using a for loop:\n",
            "1\n",
            "2\n",
            "3\n",
            "4\n",
            "5\n",
            "6\n",
            "7\n",
            "8\n",
            "9\n",
            "10\n"
          ]
        }
      ]
    },
    {
      "cell_type": "code",
      "source": [
        "# 13 Write a Python program to find the sum of all even numbers between 1 and 50.\n",
        "sum_even = 0\n",
        "for i in range(2, 51, 2): # Start at 2, go up to 50 (inclusive), step by 2\n",
        "    sum_even += i\n",
        "print(f\"The sum of all even numbers between 1 and 50 is: {sum_even}\")\n",
        "\n",
        "# Alternative using a condition inside the loop\n",
        "# sum_even_alt = 0\n",
        "# for i in range(1, 51):\n",
        "#     if i % 2 == 0:\n",
        "#         sum_even_alt += i\n",
        "# print(f\"Alternative sum: {sum_even_alt}\")"
      ],
      "metadata": {
        "colab": {
          "base_uri": "https://localhost:8080/"
        },
        "id": "zSmTQF09rF6U",
        "outputId": "a881e76a-1e4d-43cd-f7ed-beb78c39d5e5"
      },
      "execution_count": 13,
      "outputs": [
        {
          "output_type": "stream",
          "name": "stdout",
          "text": [
            "The sum of all even numbers between 1 and 50 is: 650\n"
          ]
        }
      ]
    },
    {
      "cell_type": "code",
      "source": [
        "# 14 Write a program to reverse a string using a while loop.\n",
        "original_string = input(\"Enter a string to reverse: \")\n",
        "reversed_string = \"\"\n",
        "index = len(original_string) - 1\n",
        "\n",
        "while index >= 0:\n",
        "    reversed_string += original_string[index]\n",
        "    index -= 1\n",
        "\n",
        "print(f\"Original string: {original_string}\")\n",
        "print(f\"Reversed string: {reversed_string}\")"
      ],
      "metadata": {
        "colab": {
          "base_uri": "https://localhost:8080/"
        },
        "id": "-hk0M6n-rVh-",
        "outputId": "bdbd0df1-c280-4fc7-867e-4394973ccff5"
      },
      "execution_count": 14,
      "outputs": [
        {
          "output_type": "stream",
          "name": "stdout",
          "text": [
            "Enter a string to reverse: devyani\n",
            "Original string: devyani\n",
            "Reversed string: inayved\n"
          ]
        }
      ]
    },
    {
      "cell_type": "code",
      "source": [
        "#15 Write a Python program to calculate the factorial of a number provided by the user using a while loop.\n",
        "try:\n",
        "    num = int(input(\"Enter a non-negative integer to calculate its factorial: \"))\n",
        "\n",
        "    if num < 0:\n",
        "        print(\"Factorial is not defined for negative numbers.\")\n",
        "    elif num == 0:\n",
        "        print(\"The factorial of 0 is 1.\")\n",
        "    else:\n",
        "        factorial = 1\n",
        "        current_num = num\n",
        "        while current_num > 0:\n",
        "            factorial *= current_num\n",
        "            current_num -= 1\n",
        "        print(f\"The factorial of {num} is {factorial}.\")\n",
        "except ValueError:\n",
        "    print(\"Invalid input. Please enter an integer.\")"
      ],
      "metadata": {
        "colab": {
          "base_uri": "https://localhost:8080/"
        },
        "id": "wNwnptzIrjaF",
        "outputId": "fc625c42-846a-47a0-a172-123d38a69c57"
      },
      "execution_count": 15,
      "outputs": [
        {
          "output_type": "stream",
          "name": "stdout",
          "text": [
            "Enter a non-negative integer to calculate its factorial: 8\n",
            "The factorial of 8 is 40320.\n"
          ]
        }
      ]
    },
    {
      "cell_type": "code",
      "source": [],
      "metadata": {
        "id": "atoED_9VrsiN"
      },
      "execution_count": null,
      "outputs": []
    }
  ]
}